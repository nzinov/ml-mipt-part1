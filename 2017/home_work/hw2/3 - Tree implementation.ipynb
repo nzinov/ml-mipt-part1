{
 "cells": [
  {
   "cell_type": "code",
   "execution_count": 1,
   "metadata": {
    "collapsed": true
   },
   "outputs": [],
   "source": [
    "import numpy as np"
   ]
  },
  {
   "cell_type": "code",
   "execution_count": 159,
   "metadata": {
    "collapsed": true
   },
   "outputs": [],
   "source": [
    "def mse(y1, y2):\n",
    "    return np.sum((y1 - y2)**2)\n",
    "\n",
    "class Node:\n",
    "    def __init__(self, feature=None, threshold=None):\n",
    "        self.feature = feature\n",
    "        self.threshold = threshold\n",
    "        self.left = None\n",
    "        self.right = None\n",
    "        self.answer = None\n",
    "        \n",
    "    def fit(self, data, max_height):\n",
    "        if data.shape[0] == 1 or max_height == 0:\n",
    "            self.answer = np.mean(data[:,-1])\n",
    "            return\n",
    "        best_feature = 0\n",
    "        best_thrs = 0\n",
    "        best_sep = 0\n",
    "        best_error = None\n",
    "        for feature in xrange(data.shape[1]):\n",
    "            data = data[data[:,feature].argsort()]\n",
    "            for sep in xrange(1, data.shape[0]):\n",
    "                left = data[:sep]\n",
    "                right = data[sep:]\n",
    "                means = [np.mean(part) for part in [left[:,-1], right[:,-1]]]\n",
    "                error = mse(left, means[0]) + mse(right, means[1])\n",
    "                if best_error is None or error < best_error:\n",
    "                    best_error = error\n",
    "                    best_feature = feature\n",
    "                    best_thrs = (data[sep][-1] + data[sep - 1][-1]) / 2\n",
    "                    best_sep = sep\n",
    "        self.feature = best_feature\n",
    "        self.threshold = best_thrs\n",
    "        data = data[data[:,best_feature].argsort()]\n",
    "        left = data[:best_sep]\n",
    "        right = data[best_sep:]\n",
    "        self.left = Node()\n",
    "        self.left.fit(left, max_height - 1)\n",
    "        self.right = Node()\n",
    "        self.right.fit(right, max_height - 1)\n",
    "    \n",
    "    def predict(self, x):\n",
    "        if self.answer:\n",
    "            return self.answer\n",
    "        if x[self.feature] >= self.threshold:\n",
    "            return self.right.predict(x)\n",
    "        else:\n",
    "            return self.left.predict(x)\n",
    "    \n",
    "    def __str__(self):\n",
    "        if self.answer:\n",
    "            return \"={}\".format(self.answer)\n",
    "        else:\n",
    "            return \"<{}=={} {} {}>\".format(self.feature, self.threshold, self.left, self.right)\n",
    "                \n",
    "            \n",
    "        \n",
    "class DecisionTree:\n",
    "    def __init__(self, max_height=100):\n",
    "        self.max_height = max_height\n",
    "        self.root = None\n",
    "    \n",
    "    def fit(self, x, y):\n",
    "        data = np.concatenate([x, y.reshape((-1, 1))], axis=1)\n",
    "        self.root = Node()\n",
    "        self.root.fit(data, self.max_height)\n",
    "    \n",
    "    def predict(self, x):\n",
    "        ans = [\n",
    "            self.root.predict(row) for row in x\n",
    "        ]\n",
    "        return ans\n",
    "    \n",
    "    def __str__(self):\n",
    "        return str(self.root)\n",
    "        \n",
    "    "
   ]
  },
  {
   "cell_type": "code",
   "execution_count": 160,
   "metadata": {
    "collapsed": false
   },
   "outputs": [],
   "source": [
    "import sklearn.datasets\n",
    "boston = sklearn.datasets.load_boston()"
   ]
  },
  {
   "cell_type": "code",
   "execution_count": 161,
   "metadata": {
    "collapsed": true
   },
   "outputs": [],
   "source": [
    "from sklearn.model_selection import train_test_split"
   ]
  },
  {
   "cell_type": "code",
   "execution_count": 162,
   "metadata": {
    "collapsed": true
   },
   "outputs": [],
   "source": [
    "x_train, x_test, y_train, y_test = train_test_split(boston.data, boston.target)"
   ]
  },
  {
   "cell_type": "code",
   "execution_count": 163,
   "metadata": {
    "collapsed": true
   },
   "outputs": [],
   "source": [
    "tree = DecisionTree(3)"
   ]
  },
  {
   "cell_type": "code",
   "execution_count": 164,
   "metadata": {
    "collapsed": false
   },
   "outputs": [],
   "source": [
    "tree.fit(x_train, y_train)"
   ]
  },
  {
   "cell_type": "code",
   "execution_count": 165,
   "metadata": {
    "collapsed": false
   },
   "outputs": [
    {
     "data": {
      "text/plain": [
       "67.978582677165363"
      ]
     },
     "execution_count": 165,
     "metadata": {},
     "output_type": "execute_result"
    }
   ],
   "source": [
    "from sklearn.metrics import mean_squared_error\n",
    "mean_squared_error(tree.predict(x_test), y_test)"
   ]
  },
  {
   "cell_type": "code",
   "execution_count": 173,
   "metadata": {
    "collapsed": false
   },
   "outputs": [
    {
     "data": {
      "text/plain": [
       "67.978582677165363"
      ]
     },
     "execution_count": 173,
     "metadata": {},
     "output_type": "execute_result"
    }
   ],
   "source": [
    "tree = DecisionTree(3)\n",
    "tree.fit(x_train, y_train)\n",
    "mean_squared_error(tree.predict(x_test), y_test)"
   ]
  },
  {
   "cell_type": "code",
   "execution_count": null,
   "metadata": {
    "collapsed": true
   },
   "outputs": [],
   "source": []
  }
 ],
 "metadata": {
  "kernelspec": {
   "display_name": "Python 2",
   "language": "python2",
   "name": "python2"
  },
  "language_info": {
   "codemirror_mode": {
    "name": "ipython",
    "version": 2
   },
   "file_extension": ".py",
   "mimetype": "text/x-python",
   "name": "python",
   "nbconvert_exporter": "python",
   "pygments_lexer": "ipython2",
   "version": "2.7.13"
  }
 },
 "nbformat": 4,
 "nbformat_minor": 2
}
