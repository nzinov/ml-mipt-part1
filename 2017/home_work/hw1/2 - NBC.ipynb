{
 "cells": [
  {
   "cell_type": "code",
   "execution_count": 1,
   "metadata": {
    "collapsed": false
   },
   "outputs": [],
   "source": [
    "from sklearn import datasets"
   ]
  },
  {
   "cell_type": "code",
   "execution_count": 2,
   "metadata": {
    "collapsed": true
   },
   "outputs": [],
   "source": [
    "digits = datasets.load_digits()"
   ]
  },
  {
   "cell_type": "code",
   "execution_count": 3,
   "metadata": {
    "collapsed": false
   },
   "outputs": [
    {
     "data": {
      "text/plain": [
       "array([[  0.,   0.,   5.,  13.,   9.,   1.,   0.,   0.,   0.,   0.,  13.,\n",
       "         15.,  10.,  15.,   5.,   0.,   0.,   3.,  15.,   2.,   0.,  11.,\n",
       "          8.,   0.,   0.,   4.,  12.,   0.,   0.,   8.,   8.,   0.,   0.,\n",
       "          5.,   8.,   0.,   0.,   9.,   8.,   0.,   0.,   4.,  11.,   0.,\n",
       "          1.,  12.,   7.,   0.,   0.,   2.,  14.,   5.,  10.,  12.,   0.,\n",
       "          0.,   0.,   0.,   6.,  13.,  10.,   0.,   0.,   0.],\n",
       "       [  0.,   0.,   0.,  12.,  13.,   5.,   0.,   0.,   0.,   0.,   0.,\n",
       "         11.,  16.,   9.,   0.,   0.,   0.,   0.,   3.,  15.,  16.,   6.,\n",
       "          0.,   0.,   0.,   7.,  15.,  16.,  16.,   2.,   0.,   0.,   0.,\n",
       "          0.,   1.,  16.,  16.,   3.,   0.,   0.,   0.,   0.,   1.,  16.,\n",
       "         16.,   6.,   0.,   0.,   0.,   0.,   1.,  16.,  16.,   6.,   0.,\n",
       "          0.,   0.,   0.,   0.,  11.,  16.,  10.,   0.,   0.],\n",
       "       [  0.,   0.,   0.,   4.,  15.,  12.,   0.,   0.,   0.,   0.,   3.,\n",
       "         16.,  15.,  14.,   0.,   0.,   0.,   0.,   8.,  13.,   8.,  16.,\n",
       "          0.,   0.,   0.,   0.,   1.,   6.,  15.,  11.,   0.,   0.,   0.,\n",
       "          1.,   8.,  13.,  15.,   1.,   0.,   0.,   0.,   9.,  16.,  16.,\n",
       "          5.,   0.,   0.,   0.,   0.,   3.,  13.,  16.,  16.,  11.,   5.,\n",
       "          0.,   0.,   0.,   0.,   3.,  11.,  16.,   9.,   0.]])"
      ]
     },
     "execution_count": 3,
     "metadata": {},
     "output_type": "execute_result"
    }
   ],
   "source": [
    "digits.data[:3]"
   ]
  },
  {
   "cell_type": "code",
   "execution_count": 4,
   "metadata": {
    "collapsed": true
   },
   "outputs": [],
   "source": [
    "cancer = datasets.load_breast_cancer()\n"
   ]
  },
  {
   "cell_type": "code",
   "execution_count": 5,
   "metadata": {
    "collapsed": false
   },
   "outputs": [
    {
     "data": {
      "text/plain": [
       "array([[  1.79900000e+01,   1.03800000e+01,   1.22800000e+02,\n",
       "          1.00100000e+03,   1.18400000e-01,   2.77600000e-01,\n",
       "          3.00100000e-01,   1.47100000e-01,   2.41900000e-01,\n",
       "          7.87100000e-02,   1.09500000e+00,   9.05300000e-01,\n",
       "          8.58900000e+00,   1.53400000e+02,   6.39900000e-03,\n",
       "          4.90400000e-02,   5.37300000e-02,   1.58700000e-02,\n",
       "          3.00300000e-02,   6.19300000e-03,   2.53800000e+01,\n",
       "          1.73300000e+01,   1.84600000e+02,   2.01900000e+03,\n",
       "          1.62200000e-01,   6.65600000e-01,   7.11900000e-01,\n",
       "          2.65400000e-01,   4.60100000e-01,   1.18900000e-01],\n",
       "       [  2.05700000e+01,   1.77700000e+01,   1.32900000e+02,\n",
       "          1.32600000e+03,   8.47400000e-02,   7.86400000e-02,\n",
       "          8.69000000e-02,   7.01700000e-02,   1.81200000e-01,\n",
       "          5.66700000e-02,   5.43500000e-01,   7.33900000e-01,\n",
       "          3.39800000e+00,   7.40800000e+01,   5.22500000e-03,\n",
       "          1.30800000e-02,   1.86000000e-02,   1.34000000e-02,\n",
       "          1.38900000e-02,   3.53200000e-03,   2.49900000e+01,\n",
       "          2.34100000e+01,   1.58800000e+02,   1.95600000e+03,\n",
       "          1.23800000e-01,   1.86600000e-01,   2.41600000e-01,\n",
       "          1.86000000e-01,   2.75000000e-01,   8.90200000e-02],\n",
       "       [  1.96900000e+01,   2.12500000e+01,   1.30000000e+02,\n",
       "          1.20300000e+03,   1.09600000e-01,   1.59900000e-01,\n",
       "          1.97400000e-01,   1.27900000e-01,   2.06900000e-01,\n",
       "          5.99900000e-02,   7.45600000e-01,   7.86900000e-01,\n",
       "          4.58500000e+00,   9.40300000e+01,   6.15000000e-03,\n",
       "          4.00600000e-02,   3.83200000e-02,   2.05800000e-02,\n",
       "          2.25000000e-02,   4.57100000e-03,   2.35700000e+01,\n",
       "          2.55300000e+01,   1.52500000e+02,   1.70900000e+03,\n",
       "          1.44400000e-01,   4.24500000e-01,   4.50400000e-01,\n",
       "          2.43000000e-01,   3.61300000e-01,   8.75800000e-02]])"
      ]
     },
     "execution_count": 5,
     "metadata": {},
     "output_type": "execute_result"
    }
   ],
   "source": [
    "cancer.data[:3]"
   ]
  },
  {
   "cell_type": "code",
   "execution_count": 6,
   "metadata": {
    "collapsed": true
   },
   "outputs": [],
   "source": [
    "from sklearn.model_selection import cross_val_score"
   ]
  },
  {
   "cell_type": "code",
   "execution_count": 7,
   "metadata": {
    "collapsed": true
   },
   "outputs": [],
   "source": [
    "from sklearn.naive_bayes import BernoulliNB, MultinomialNB, GaussianNB"
   ]
  },
  {
   "cell_type": "code",
   "execution_count": 8,
   "metadata": {
    "collapsed": false,
    "scrolled": true
   },
   "outputs": [
    {
     "name": "stdout",
     "output_type": "stream",
     "text": [
      "type         digits              cancer\n",
      "bern 0.825823650778 0.627420402859\n",
      "mult 0.870877148974 0.894579040193\n",
      "gauss 0.818600380355 0.936749280609\n"
     ]
    }
   ],
   "source": [
    "print \"type         digits              cancer\"\n",
    "for name, est in zip([\"bern\", \"mult\", \"gauss\"], [BernoulliNB, MultinomialNB, GaussianNB]):\n",
    "    print name,\n",
    "    for ds in [digits, cancer]:\n",
    "        print cross_val_score(est(), ds.data, ds.target).mean(),\n",
    "    print"
   ]
  },
  {
   "cell_type": "markdown",
   "metadata": {},
   "source": [
    "Максимальное качество на датасете digits получилось 0.83 на бернулиевском классификаторе.\n",
    "\n",
    "Максимальное качество на датасете breast_cancer получилось 0.94 на гауссовском классификаторе.\n",
    "\n",
    "Из предложенных утверждений верно только (d)"
   ]
  }
 ],
 "metadata": {
  "kernelspec": {
   "display_name": "Python 2",
   "language": "python2",
   "name": "python2"
  },
  "language_info": {
   "codemirror_mode": {
    "name": "ipython",
    "version": 2
   },
   "file_extension": ".py",
   "mimetype": "text/x-python",
   "name": "python",
   "nbconvert_exporter": "python",
   "pygments_lexer": "ipython2",
   "version": "2.7.13"
  }
 },
 "nbformat": 4,
 "nbformat_minor": 2
}
