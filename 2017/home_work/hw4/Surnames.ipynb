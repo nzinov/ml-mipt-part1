{
 "cells": [
  {
   "cell_type": "code",
   "execution_count": 2,
   "metadata": {
    "collapsed": true
   },
   "outputs": [],
   "source": [
    "import pandas\n",
    "import sklearn"
   ]
  },
  {
   "cell_type": "code",
   "execution_count": 3,
   "metadata": {
    "collapsed": false
   },
   "outputs": [],
   "source": [
    "train = pandas.read_csv(\"linear_train.txt\", names=[\"word\", \"y\"])\n",
    "test = pandas.read_csv(\"linear_test.txt\", names=[\"word\"])\n",
    "ans = pandas.read_csv(\"linear_ans_example.txt\")"
   ]
  },
  {
   "cell_type": "code",
   "execution_count": 4,
   "metadata": {
    "collapsed": true
   },
   "outputs": [],
   "source": [
    "from sklearn.linear_model import LogisticRegression"
   ]
  },
  {
   "cell_type": "code",
   "execution_count": 5,
   "metadata": {
    "collapsed": true
   },
   "outputs": [],
   "source": [
    "from sklearn.model_selection import cross_val_score\n",
    "from collections import defaultdict"
   ]
  },
  {
   "cell_type": "code",
   "execution_count": 9,
   "metadata": {
    "collapsed": false
   },
   "outputs": [],
   "source": [
    "class ExtractFeatures(sklearn.base.BaseEstimator, sklearn.base.TransformerMixin):\n",
    "    def __init__(self):\n",
    "        pass\n",
    "\n",
    "    def fit(self, X, y=None):\n",
    "        return self\n",
    "\n",
    "    def transform(self, X):\n",
    "        return [self.extract(word) for word in X]\n",
    "\n",
    "    def extract(self, word):\n",
    "        features = defaultdict(lambda: 0)\n",
    "        if word[0].isupper():\n",
    "            features['capitalized'] = 1\n",
    "        if word.isupper():\n",
    "            features['allcaps'] = 1   \n",
    "        word = word.lower()\n",
    "        for i in range(len(word)):\n",
    "            features[\"suf\" + word[-i:]] += 1\n",
    "        for length in range(2, 4):\n",
    "            for i in range(len(word) - length + 1):\n",
    "                features[word[i:i + length]] += 1\n",
    "            for offset in range(1, 3):\n",
    "                features[word[len(word) - offset - length: len(word) - offset] + \"*\"*offset] += 1\n",
    "        features[\"length\"] = len(word)\n",
    "        return features\n",
    "        "
   ]
  },
  {
   "cell_type": "code",
   "execution_count": 10,
   "metadata": {
    "collapsed": true
   },
   "outputs": [],
   "source": [
    "from sklearn.feature_extraction import DictVectorizer\n",
    "from sklearn.pipeline import make_pipeline\n",
    "from sklearn.model_selection import StratifiedKFold"
   ]
  },
  {
   "cell_type": "code",
   "execution_count": 11,
   "metadata": {
    "collapsed": false
   },
   "outputs": [],
   "source": [
    "vectorizer = DictVectorizer()\n",
    "train_data = vectorizer.fit_transform(ExtractFeatures().transform(train.word))"
   ]
  },
  {
   "cell_type": "code",
   "execution_count": 12,
   "metadata": {
    "collapsed": false
   },
   "outputs": [],
   "source": [
    "test_data = vectorizer.transform(ExtractFeatures().transform(test.word))"
   ]
  },
  {
   "cell_type": "code",
   "execution_count": 24,
   "metadata": {
    "collapsed": true
   },
   "outputs": [],
   "source": [
    "#est = LogisticRegression(class_weight='balanced', C=1)\n",
    "est = sklearn.linear_model.LogisticRegressionCV(class_weight='balanced')"
   ]
  },
  {
   "cell_type": "code",
   "execution_count": 14,
   "metadata": {
    "collapsed": false
   },
   "outputs": [
    {
     "data": {
      "text/plain": [
       "array([ 0.8939391 ,  0.89360533,  0.90189708])"
      ]
     },
     "execution_count": 14,
     "metadata": {},
     "output_type": "execute_result"
    }
   ],
   "source": [
    "cross_val_score(est, train_data, train.y, scoring=\"roc_auc\", cv=StratifiedKFold(shuffle=True))"
   ]
  },
  {
   "cell_type": "code",
   "execution_count": 25,
   "metadata": {
    "collapsed": false
   },
   "outputs": [],
   "source": [
    "est.fit(train_data, train.y)\n",
    "answers = est.predict_proba(test_data)[:, 1]"
   ]
  },
  {
   "cell_type": "code",
   "execution_count": 27,
   "metadata": {
    "collapsed": false
   },
   "outputs": [],
   "source": [
    "ans.Answer = answers"
   ]
  },
  {
   "cell_type": "code",
   "execution_count": 17,
   "metadata": {
    "collapsed": false
   },
   "outputs": [],
   "source": [
    "answers = est.predict(train_data)"
   ]
  },
  {
   "cell_type": "code",
   "execution_count": 18,
   "metadata": {
    "collapsed": false
   },
   "outputs": [
    {
     "data": {
      "text/plain": [
       "word    90770\n",
       "y       90770\n",
       "dtype: int64"
      ]
     },
     "execution_count": 18,
     "metadata": {},
     "output_type": "execute_result"
    }
   ],
   "source": [
    "train[train.y != 1].count()"
   ]
  },
  {
   "cell_type": "code",
   "execution_count": 28,
   "metadata": {
    "collapsed": false
   },
   "outputs": [],
   "source": [
    "ans.to_csv(\"answer.txt\", index=False)"
   ]
  },
  {
   "cell_type": "code",
   "execution_count": 26,
   "metadata": {
    "collapsed": false
   },
   "outputs": [
    {
     "data": {
      "text/plain": [
       "{1: array([[ 0.62038872,  0.69236458,  0.74901636,  0.77611455,  0.7974736 ,\n",
       "          0.81436559,  0.81309351,  0.81117061,  0.82054847,  0.8190989 ],\n",
       "        [ 0.71218531,  0.80037275,  0.84306127,  0.86385824,  0.87370943,\n",
       "          0.87344319,  0.877644  ,  0.88042481,  0.88163772,  0.87968524],\n",
       "        [ 0.64605645,  0.75820957,  0.82938879,  0.87169398,  0.89145613,\n",
       "          0.89660375,  0.89728418,  0.89731377,  0.89923673,  0.89849713]])}"
      ]
     },
     "execution_count": 26,
     "metadata": {},
     "output_type": "execute_result"
    }
   ],
   "source": [
    "est.scores_"
   ]
  },
  {
   "cell_type": "code",
   "execution_count": null,
   "metadata": {
    "collapsed": true
   },
   "outputs": [],
   "source": []
  }
 ],
 "metadata": {
  "kernelspec": {
   "display_name": "Python 2",
   "language": "python2",
   "name": "python2"
  },
  "language_info": {
   "codemirror_mode": {
    "name": "ipython",
    "version": 2
   },
   "file_extension": ".py",
   "mimetype": "text/x-python",
   "name": "python",
   "nbconvert_exporter": "python",
   "pygments_lexer": "ipython2",
   "version": "2.7.13"
  }
 },
 "nbformat": 4,
 "nbformat_minor": 2
}
